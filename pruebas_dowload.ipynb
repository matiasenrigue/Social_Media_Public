{
 "cells": [
  {
   "cell_type": "code",
   "execution_count": 1,
   "metadata": {},
   "outputs": [],
   "source": [
    "# Para descargar imagen\n",
    "import requests\n",
    "from requests.exceptions import HTTPError\n",
    "from PIL import Image\n",
    "from io import BytesIO\n",
    "import time\n",
    "\n",
    "# Manejar descargas\n",
    "import os\n",
    "from datetime import datetime\n",
    "import sys\n",
    "\n",
    "\n",
    "# API KEY\n",
    "from Logic.Tools import params\n",
    "\n",
    "\n",
    "import threading\n",
    "import time\n",
    "\n",
    "# Para manejar APIS\n",
    "from pyunsplash import PyUnsplash\n",
    "import pixabay.core\n",
    "\n",
    "from Logic.Tools.Shuffle_pics import ordenar_por_aspecto"
   ]
  },
  {
   "cell_type": "code",
   "execution_count": 19,
   "metadata": {},
   "outputs": [
    {
     "name": "stdout",
     "output_type": "stream",
     "text": [
      "https://player.vimeo.com/progressive_redirect/playback/371834067/rendition/1080p/file.mp4?loc=external&oauth2_token_id=1747418641&signature=be77f2cfd0894a00000616e4b92ca2a6ad50e2b0d2d35e58263a3a2ed099ebe1\n",
      "https://player.vimeo.com/progressive_redirect/playback/205354882/rendition/1080p/file.mp4?loc=external&oauth2_token_id=1747418641&signature=41fb60c5c43a013c782506e5aad6ed5b5985d37ef7dd8c351829411d1bd32d5f\n",
      "https://player.vimeo.com/progressive_redirect/playback/221214205/rendition/1080p/file.mp4?loc=external&oauth2_token_id=1747418641&signature=d32bed57d9826b3e5c73b8b77e87a0664dd69f15660d49604402c0b6e15d09ec\n",
      "https://player.vimeo.com/progressive_redirect/playback/391913728/rendition/720p/file.mp4?loc=external&oauth2_token_id=1747418641&signature=3e94c57aa2063763352f890c550df23e07f90419d1a57224451f56195cc29c22\n",
      "https://player.vimeo.com/progressive_redirect/playback/174002977/rendition/1080p/file.mp4?loc=external&oauth2_token_id=1747418641&signature=69ea06145efbc782b53a9d311d643429b37bd6a0f909bc2bc24d5fe0db50713a\n",
      "https://player.vimeo.com/progressive_redirect/playback/391913655/rendition/720p/file.mp4?loc=external&oauth2_token_id=1747418641&signature=ed8b5388b09a330e151d213fa713d6ddc30811c7edb0a7253f7ee950b66114fe\n",
      "https://player.vimeo.com/progressive_redirect/playback/462665345/rendition/1080p/file.mp4?loc=external&oauth2_token_id=1747418641&signature=50d24f59614ee4db216ab2752191e2862bb305490a77a8c23ea5a843ff75c7af\n",
      "https://player.vimeo.com/progressive_redirect/playback/397957736/rendition/1080p/file.mp4?loc=external&oauth2_token_id=1747418641&signature=262ea2765f514fae36041335315a5498fbf8cf75082bc17d4732b2a087bb3bd6\n",
      "https://player.vimeo.com/progressive_redirect/playback/371621171/rendition/1080p/file.mp4?loc=external&oauth2_token_id=1747418641&signature=89cc3421bace37c53421c8febb677b5ba8b4dbe5e4d13d02c5c14f1919d25c9c\n",
      "https://player.vimeo.com/progressive_redirect/playback/397957510/rendition/720p/file.mp4?loc=external&oauth2_token_id=1747418641&signature=524b1126f43564422d71b1e7844e379096f7de1e51a159583070ff26bfec467f\n",
      "https://player.vimeo.com/progressive_redirect/playback/507868868/rendition/1080p/file.mp4?loc=external&oauth2_token_id=1747418641&signature=43cd5d42178f0da510485b59e6f59aa6db4045e7370fb9c8eca29aa073c6ba20\n",
      "https://player.vimeo.com/progressive_redirect/playback/311319079/rendition/720p/file.mp4?loc=external&oauth2_token_id=1747418641&signature=900e877d363e3984ad76844bdbe3bf7aea061ca5c7c9e6d21d9ddb100edd3613\n",
      "https://player.vimeo.com/progressive_redirect/playback/399417809/rendition/1080p/file.mp4?loc=external&oauth2_token_id=1747418641&signature=edae8bc50ba754685ef745a85160a037ec8437a8c993a2ad958ed6b7c5f5b244\n",
      "https://player.vimeo.com/progressive_redirect/playback/405764782/rendition/1080p/file.mp4?loc=external&oauth2_token_id=1747418641&signature=453294e605c40a0b3fd34aa2f4c1c694350eb132728fd633fc72848eb0a8bc16\n",
      "https://player.vimeo.com/progressive_redirect/playback/391913483/rendition/720p/file.mp4?loc=external&oauth2_token_id=1747418641&signature=2ae3ab80e2251eb8f7a1cdaed149c072048a3fa2e103737cf6073fe7d2611ff9\n",
      "https://player.vimeo.com/progressive_redirect/playback/397957513/rendition/720p/file.mp4?loc=external&oauth2_token_id=1747418641&signature=9a6df9205bd09bc73bc105cb360fa8364536aaff031ef24ed4919472f62b01ce\n",
      "https://player.vimeo.com/progressive_redirect/playback/311322250/rendition/1080p/file.mp4?loc=external&oauth2_token_id=1747418641&signature=c96e1be257fb01493c077559aa39132d3da616be19f73f75f3ec385d1ffd6725\n",
      "https://player.vimeo.com/progressive_redirect/playback/311236486/rendition/720p/file.mp4?loc=external&oauth2_token_id=1747418641&signature=5ffff2715dce1be480a3bf6e89294b5b42ca1014590511f39c2c3bd587535a2c\n",
      "https://player.vimeo.com/progressive_redirect/playback/402192350/rendition/1080p/file.mp4?loc=external&oauth2_token_id=1747418641&signature=0cdf15419e20a60ed3bd507a061a9697f6cc3da680d905ee94a5284b314aca39\n",
      "https://player.vimeo.com/progressive_redirect/playback/391913030/rendition/1080p/file.mp4?loc=external&oauth2_token_id=1747418641&signature=af674dcd696178f071a5ab89f35ae03686fdd24cc937caceefd96233e068b02f\n",
      "https://player.vimeo.com/progressive_redirect/playback/222141053/rendition/720p/file.mp4?loc=external&oauth2_token_id=1747418641&signature=db7978ab0d5b5b683ef8e91a66cf1ba54e6307345c1f7699dd4462c6e407147e\n",
      "https://player.vimeo.com/progressive_redirect/playback/205354950/rendition/1080p/file.mp4?loc=external&oauth2_token_id=1747418641&signature=6ad569746192bfac607e086e62b375438bd57601aca803d123e24d824d6f3f47\n",
      "https://player.vimeo.com/progressive_redirect/playback/391913000/rendition/720p/file.mp4?loc=external&oauth2_token_id=1747418641&signature=150d5e7c1dc608ed935915eb0bc1d0d794c6e72cee6f1dddfb667381bd02f50e\n",
      "https://player.vimeo.com/progressive_redirect/playback/311141202/rendition/1080p/file.mp4?loc=external&oauth2_token_id=1747418641&signature=71d921b796f59f2892f63159d44b8d8f3e72643831528cce59298a8f5c967801\n",
      "https://player.vimeo.com/progressive_redirect/playback/462664754/rendition/720p/file.mp4?loc=external&oauth2_token_id=1747418641&signature=226726b2ab849e924aa3116e8411648b852e5683fce145ae22137795ebd26635\n",
      "https://player.vimeo.com/progressive_redirect/playback/397957885/rendition/1080p/file.mp4?loc=external&oauth2_token_id=1747418641&signature=971dfa55322c0f839ed9d8f60d43c684919561640d188d8d233341afd554716b\n",
      "https://player.vimeo.com/progressive_redirect/playback/311325795/rendition/720p/file.mp4?loc=external&oauth2_token_id=1747418641&signature=2f76338e56abc45c5bd4702fc8f4b92d2aab8fcf6e78a9218e798cbc722992e8\n",
      "https://player.vimeo.com/progressive_redirect/playback/311308169/rendition/1080p/file.mp4?loc=external&oauth2_token_id=1747418641&signature=c1efbe65ad846ebb72f7a0ba7b960e71f437b2c365ce7dd40912e2f88ddaa1db\n",
      "https://player.vimeo.com/progressive_redirect/playback/483262883/rendition/1080p/file.mp4?loc=external&oauth2_token_id=1747418641&signature=ccc3e794ee4fa98cb93948c28010f29b7bb6e9d72221088207279cf3e478ecb8\n",
      "https://player.vimeo.com/progressive_redirect/playback/493906841/rendition/720p/file.mp4?loc=external&oauth2_token_id=1747418641&signature=818309c609edd6ff936c0d9790bf95172db16aa5dfe6e8e30cd50d53edd69e51\n",
      "https://player.vimeo.com/progressive_redirect/playback/391913574/rendition/1080p/file.mp4?loc=external&oauth2_token_id=1747418641&signature=9a29339bb51ffa526fcc1d588195f7a528bf9efc7106d1902893b9658b29e019\n",
      "https://player.vimeo.com/progressive_redirect/playback/493901420/rendition/1080p/file.mp4?loc=external&oauth2_token_id=1747418641&signature=902d4a7153d80ec77d2e8e842e19b170febebc9fb27571f11a749cdd2a4e3699\n",
      "https://player.vimeo.com/progressive_redirect/playback/397957707/rendition/1080p/file.mp4?loc=external&oauth2_token_id=1747418641&signature=3367623521a12c020a031a72dee2677de1d267329e05f5b14e4c686eb7a6bb7e\n",
      "https://player.vimeo.com/progressive_redirect/playback/202186807/rendition/1080p/file.mp4?loc=external&oauth2_token_id=1747418641&signature=41a1d848900e660bd69931f5a860ca3dbe93623f2ebace8ea9eac9e285f57e20\n",
      "https://player.vimeo.com/progressive_redirect/playback/397959486/rendition/720p/file.mp4?loc=external&oauth2_token_id=1747418641&signature=e0c176ca75583fdbc38e90ba82e47efdb9f922a6810ec997d1c69d47ee872468\n",
      "https://player.vimeo.com/progressive_redirect/playback/493894856/rendition/1080p/file.mp4?loc=external&oauth2_token_id=1747418641&signature=04a2d19c06ab6f830c688b82d734789cee1106fe6877dd4359b3b70f77dd78ef\n",
      "https://player.vimeo.com/progressive_redirect/playback/398005213/rendition/720p/file.mp4?loc=external&oauth2_token_id=1747418641&signature=43d5138b7b6a13a65b2e49f2e1c916eb2441481b8f5664ed98360fbb947f0025\n",
      "https://player.vimeo.com/progressive_redirect/playback/395751719/rendition/720p/file.mp4?loc=external&oauth2_token_id=1747418641&signature=0a294af96d1f10b3e51ff2efb2cf7c3387173ac2c82de32ade9e03e598c6f5d7\n",
      "https://player.vimeo.com/progressive_redirect/playback/397957385/rendition/720p/file.mp4?loc=external&oauth2_token_id=1747418641&signature=a713bcb0d6b3f1c10c951b8c53704cf68bae109ee235cf0096d17c673396100d\n",
      "https://player.vimeo.com/progressive_redirect/playback/397957687/rendition/720p/file.mp4?loc=external&oauth2_token_id=1747418641&signature=ab3cc2e113c9d65921411f0dbd04d58064e9c28b2fbe30ae797b9385dde6564b\n",
      "https://player.vimeo.com/progressive_redirect/playback/507877197/rendition/1080p/file.mp4?loc=external&oauth2_token_id=1747418641&signature=e34adc494266636b19fb38c8d969018239311ebed3916762d942a70a6f1f806a\n",
      "https://player.vimeo.com/progressive_redirect/playback/480332510/rendition/1080p/file.mp4?loc=external&oauth2_token_id=1747418641&signature=e65af563a978d72769b8af63e3b5ec5acdfd450273f529bae3b3fca94807890f\n",
      "https://player.vimeo.com/progressive_redirect/playback/311310236/rendition/1080p/file.mp4?loc=external&oauth2_token_id=1747418641&signature=2efb4b0af62c04d92341e22c809cc95e7d250edb489492b8c31f7fe35d5d3088\n",
      "https://player.vimeo.com/progressive_redirect/playback/311315968/rendition/720p/file.mp4?loc=external&oauth2_token_id=1747418641&signature=7b8962637884d326c61fb4bde545480b0b60bfe91e3378917e3e35c3e7bd954f\n",
      "https://player.vimeo.com/progressive_redirect/playback/409260257/rendition/720p/file.mp4?loc=external&oauth2_token_id=1747418641&signature=a2edaf25be4083f17cfcd920356faa3253c67d9b3377a8fc0839f3be85715c48\n",
      "https://player.vimeo.com/progressive_redirect/playback/372330806/rendition/1080p/file.mp4?loc=external&oauth2_token_id=1747418641&signature=d954ef99d0d37c1945360e8b1861bb2c5b3303b5c428956186f3e7857b62d80d\n",
      "https://player.vimeo.com/progressive_redirect/playback/407160352/rendition/720p/file.mp4?loc=external&oauth2_token_id=1747418641&signature=ac4e40eabfd1535706807ebe369e447a738361f7c8464412a4a519ade8891785\n",
      "https://player.vimeo.com/progressive_redirect/playback/483267977/rendition/1080p/file.mp4?loc=external&oauth2_token_id=1747418641&signature=b037acf0ab1f24eabc9a1eabf3f6fb1a2b1dc12a518ae3b5dd9a87330d2329ac\n",
      "https://player.vimeo.com/progressive_redirect/playback/397957611/rendition/720p/file.mp4?loc=external&oauth2_token_id=1747418641&signature=5d0361d11d560d5f4cebe324da75fdbe9a1d555cacb9e5349c40c49f8a67d7aa\n",
      "https://player.vimeo.com/progressive_redirect/playback/439027404/rendition/1080p/file.mp4?loc=external&oauth2_token_id=1747418641&signature=5b6835f730ff0db29f7d21cf23ed401877b9f4a279c252bdd8650518b59dbe34\n",
      "https://player.vimeo.com/progressive_redirect/playback/405771429/rendition/1080p/file.mp4?loc=external&oauth2_token_id=1747418641&signature=073f08c6dcb49ab46c6acead8bf603b593c3082ce0320a77551f9d871968504c\n",
      "https://player.vimeo.com/progressive_redirect/playback/413009411/rendition/1080p/file.mp4?loc=external&oauth2_token_id=1747418641&signature=ede98b398484720bbbd7fdca45e0e3bc2c18656d5af3c98b97353bcefa7a6ad0\n",
      "https://player.vimeo.com/progressive_redirect/playback/121585463/rendition/720p/file.mp4?loc=external&oauth2_token_id=1747418641&signature=455a1c4b14b4a8371898e0b5db6218c656104d11da92c1aec94e361bfbc348f5\n",
      "https://player.vimeo.com/progressive_redirect/playback/483271785/rendition/1080p/file.mp4?loc=external&oauth2_token_id=1747418641&signature=bf33eb0fda4e0500e1b1901594073e1f7225edc0a9aab11344eab326d8b9fe25\n",
      "https://player.vimeo.com/progressive_redirect/playback/418125694/rendition/1080p/file.mp4?loc=external&oauth2_token_id=1747418641&signature=bccfb408b318866f59a128e476f13f34edb07930bae348cfa815c64d9176f69e\n",
      "https://player.vimeo.com/progressive_redirect/playback/397957584/rendition/720p/file.mp4?loc=external&oauth2_token_id=1747418641&signature=e551c1e2cb7e0505d76f3c2d56d83caf47dd0e1aedc09fbdf233b859a1805f32\n",
      "https://player.vimeo.com/progressive_redirect/playback/389835851/rendition/1080p/file.mp4?loc=external&oauth2_token_id=1747418641&signature=68130baa3ed48109fbc51a36af17926cdbb20605d1d44ebf8afdf23765f434e6\n",
      "https://player.vimeo.com/progressive_redirect/playback/397957820/rendition/720p/file.mp4?loc=external&oauth2_token_id=1747418641&signature=fa609d9ecf422610c3541eeda0a4f52dfca51da0b90c18042da460726ff75792\n",
      "https://player.vimeo.com/progressive_redirect/playback/397959479/rendition/1080p/file.mp4?loc=external&oauth2_token_id=1747418641&signature=26b48a6f2483757758f1abcbb09378726fe67eb0b78863d5fbe051ac9d3ad2dc\n",
      "https://player.vimeo.com/progressive_redirect/playback/493894917/rendition/720p/file.mp4?loc=external&oauth2_token_id=1747418641&signature=7d1419bcca8eecf7dd73fc16b2919dc45e53adb2b0064564c75dfbe7f0c10287\n",
      "https://player.vimeo.com/progressive_redirect/playback/493895847/rendition/720p/file.mp4?loc=external&oauth2_token_id=1747418641&signature=f095c023e8ab375628b03d06e50251afa6174b8a70a388e1eae25e6fb869aa33\n",
      "https://player.vimeo.com/progressive_redirect/playback/202186979/rendition/720p/file.mp4?loc=external&oauth2_token_id=1747418641&signature=b166128e1031b432789e7e0ae711976279c6b059457b7fcda1123a65a9d7b540\n",
      "https://player.vimeo.com/progressive_redirect/playback/424523995/rendition/720p/file.mp4?loc=external&oauth2_token_id=1747418641&signature=1cfb1ac7ede4c8b3f5490873277462181461350e9c57b3bc124bc53bf0158d9d\n",
      "https://player.vimeo.com/progressive_redirect/playback/493907004/rendition/720p/file.mp4?loc=external&oauth2_token_id=1747418641&signature=689eeefcb61141bbf8a93322c65b1413af094c80154be5979a9856bb427e117c\n",
      "https://player.vimeo.com/progressive_redirect/playback/399417806/rendition/1080p/file.mp4?loc=external&oauth2_token_id=1747418641&signature=4ba983be121fd427072a2366b6c71e96a6ca262680a8144fe8b9bf88bbc45a26\n",
      "https://player.vimeo.com/progressive_redirect/playback/507702022/rendition/1080p/file.mp4?loc=external&oauth2_token_id=1747418641&signature=551cc01b51f2aaffc4c57464d70ba61cd1022d01f930e3013c46930fe80a998c\n",
      "https://player.vimeo.com/progressive_redirect/playback/430304159/rendition/720p/file.mp4?loc=external&oauth2_token_id=1747418641&signature=66f8da3154bf024351776fce0c235e74634e04737ac85880822f2153ae36a3ad\n",
      "https://player.vimeo.com/progressive_redirect/playback/413515080/rendition/720p/file.mp4?loc=external&oauth2_token_id=1747418641&signature=862766589c71e36758729c8342075d0bf585cba6ced7460454edd2dcd142463b\n",
      "https://player.vimeo.com/progressive_redirect/playback/483271772/rendition/720p/file.mp4?loc=external&oauth2_token_id=1747418641&signature=e2ac810a10a7bb0e6a463f5352d69c91f86b515da5f7a17babaed8dfe6089c5f\n",
      "https://player.vimeo.com/progressive_redirect/playback/123483153/rendition/720p/file.mp4?loc=external&oauth2_token_id=1747418641&signature=9c6b1c4a739e29f40d58fdb65a8995f70a3287ac36239e8f404ab1a7cef688f5\n",
      "https://player.vimeo.com/progressive_redirect/playback/539566550/rendition/1080p/file.mp4?loc=external&oauth2_token_id=1747418641&signature=5c80e9ce456eef1b3f6922f59c1712440dd60dfc37195c6add859dc7f2de9ec1\n",
      "https://player.vimeo.com/progressive_redirect/playback/493898445/rendition/1080p/file.mp4?loc=external&oauth2_token_id=1747418641&signature=ecdf7c55136a1358a6fec06beeec5b6021a4dbef7970030fe05ed11d3ddba94e\n",
      "https://player.vimeo.com/progressive_redirect/playback/470232414/rendition/720p/file.mp4?loc=external&oauth2_token_id=1747418641&signature=e2d7844ca2b11f6db28c093f3da9293345e0e05bdbf01b680403ca41a7e6db88\n",
      "https://player.vimeo.com/progressive_redirect/playback/413009275/rendition/720p/file.mp4?loc=external&oauth2_token_id=1747418641&signature=ae4c69ce8ecc4f68faba7031b03f7e2365167e83d24b12a1653a4b2f941ec37f\n",
      "https://player.vimeo.com/progressive_redirect/playback/539033394/rendition/720p/file.mp4?loc=external&oauth2_token_id=1747418641&signature=18a9908d40f7521bb74b23982fa8315fdddc29ced0753e5c1e451473ed8df402\n",
      "https://player.vimeo.com/progressive_redirect/playback/470222077/rendition/1080p/file.mp4?loc=external&oauth2_token_id=1747418641&signature=d168be06f4521827adbb4f1d476ddd1fac57ac4cde198979641ac2052664cefd\n",
      "https://player.vimeo.com/progressive_redirect/playback/483279544/rendition/720p/file.mp4?loc=external&oauth2_token_id=1747418641&signature=80190208fb29317fa1eb016077de47bd7f0c84cbe8ee9380f3c3da374925a6f1\n",
      "https://player.vimeo.com/progressive_redirect/playback/311311229/rendition/720p/file.mp4?loc=external&oauth2_token_id=1747418641&signature=d80054489afecb1393ab6f5c081a1d5d0ea1985e9ca78eddbdb0c7f4e5ece870\n",
      "https://player.vimeo.com/progressive_redirect/playback/493905741/rendition/720p/file.mp4?loc=external&oauth2_token_id=1747418641&signature=78ffcf1aab0d92e38312c9b99648f6425052b7682ad341be2070343e53a98fa1\n",
      "https://player.vimeo.com/progressive_redirect/playback/507884700/rendition/1080p/file.mp4?loc=external&oauth2_token_id=1747418641&signature=f4411cdac78ba34689c5dccaf4a299c395b0485589d82c364a1e410842a1f990\n",
      "80\n"
     ]
    }
   ],
   "source": [
    "query = \"money\"\n",
    "k = 1\n",
    "\n",
    "num_results = 80 # máximo\n",
    "api_key = params.Pexels_key\n",
    "headers = {\"Authorization\": api_key}\n",
    "segundos_linux = datetime.now().strftime(\"%s\")\n",
    "\n",
    "for j in range(k):\n",
    "\n",
    "    qurl = f\"https://api.pexels.com/videos/search?query={query}&page={j+1}&per_page={num_results}\"\n",
    "    r = requests.get(qurl, headers=headers)\n",
    "    response = r.json()\n",
    "\n",
    "    lista_videos = response[\"videos\"]\n",
    "    \n",
    "    hd_videos = []\n",
    "    for video in lista_videos:\n",
    "        for file in video[\"video_files\"]:\n",
    "            if file[\"quality\"] == \"hd\":\n",
    "                hd_videos.append(file[\"link\"])\n",
    "                break  # Añade el video una vez y continúa con el siguiente video\n",
    "    \n",
    "\n",
    "    i = 1\n",
    "    for video in hd_videos:\n",
    "        \n",
    "        print(video)\n",
    "\n",
    "print(len(hd_videos))\n",
    "        \n"
   ]
  },
  {
   "cell_type": "code",
   "execution_count": 7,
   "metadata": {},
   "outputs": [],
   "source": [
    "pu = PyUnsplash(api_key=params.Unsplash_key)  # instantiate PyUnsplash object\n",
    "\n",
    "photos = pu.photos(type_='random', count=30, featured=True, query=query, orientation = \"landscape\")\n",
    "list_photos = photos.body"
   ]
  },
  {
   "cell_type": "code",
   "execution_count": 9,
   "metadata": {},
   "outputs": [],
   "source": [
    "px = pixabay.core(params.Pixaby_key)\n",
    "\n",
    "segundos_linux = datetime.now().strftime(\"%s\")\n",
    "\n",
    "# search for space\n",
    "pictures = px.query(\n",
    "    query = query,\n",
    "    orientation = \"vertical\",\n",
    "    minHeight = 1200,\n",
    "    category = [\"animals\", \"nature\"]\n",
    "    )"
   ]
  },
  {
   "cell_type": "code",
   "execution_count": 10,
   "metadata": {},
   "outputs": [
    {
     "data": {
      "text/plain": [
       "<pixabay.query.query at 0x10d3ad450>"
      ]
     },
     "execution_count": 10,
     "metadata": {},
     "output_type": "execute_result"
    }
   ],
   "source": [
    "for picture in pictures"
   ]
  },
  {
   "cell_type": "code",
   "execution_count": null,
   "metadata": {},
   "outputs": [],
   "source": []
  }
 ],
 "metadata": {
  "kernelspec": {
   "display_name": "SocialMedia",
   "language": "python",
   "name": "python3"
  },
  "language_info": {
   "codemirror_mode": {
    "name": "ipython",
    "version": 3
   },
   "file_extension": ".py",
   "mimetype": "text/x-python",
   "name": "python",
   "nbconvert_exporter": "python",
   "pygments_lexer": "ipython3",
   "version": "3.10.6"
  }
 },
 "nbformat": 4,
 "nbformat_minor": 2
}
